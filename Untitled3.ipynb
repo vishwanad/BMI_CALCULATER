{
  "nbformat": 4,
  "nbformat_minor": 0,
  "metadata": {
    "colab": {
      "name": "Untitled3.ipynb",
      "provenance": []
    },
    "kernelspec": {
      "name": "python3",
      "display_name": "Python 3"
    },
    "language_info": {
      "name": "python"
    }
  },
  "cells": [
    {
      "cell_type": "code",
      "execution_count": 2,
      "metadata": {
        "colab": {
          "base_uri": "https://localhost:8080/"
        },
        "id": "y4gTr4PVgem6",
        "outputId": "3e63073d-2a33-455f-b691-6f014638f1b1"
      },
      "outputs": [
        {
          "output_type": "stream",
          "name": "stdout",
          "text": [
            "Enter your height in centimeters: 16\n",
            "Enter your Weight in Kg: 25\n",
            "your Body Mass Index is:  976.5625\n",
            "you are severely overweight\n"
          ]
        }
      ],
      "source": [
        "Height=float(input(\"Enter your height in centimeters: \"))\n",
        "Weight=float(input(\"Enter your Weight in Kg: \"))\n",
        "Height = Height/100\n",
        "BMI=Weight/(Height*Height)\n",
        "print(\"your Body Mass Index is: \",BMI)\n",
        "if(BMI>0):\n",
        "\t\n",
        "\tif(BMI<=16):\n",
        "\t\tprint(\"you are severely underweight\")\n",
        "\telif(BMI<=18.5):\n",
        "\t\tprint(\"you are underweight\")\n",
        "\telif(BMI<=25):\n",
        "\t\tprint(\"you are Healthy\")\n",
        "\telif(BMI<=30):\n",
        "\t\tprint(\"you are overweight\")\n",
        "\telse:\n",
        "\t\tprint(\"you are severely overweight\")\n",
        "else:(\"enter valid details\")"
      ]
    }
  ]
}